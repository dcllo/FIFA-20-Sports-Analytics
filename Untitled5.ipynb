{
  "cells": [
    {
      "cell_type": "markdown",
      "metadata": {
        "id": "VK_7bTFX19UX"
      },
      "source": [
        "Integrantes:\n",
        "\n",
        "Derek Cuello 23-0774\n",
        "\n",
        "Diego Puesan 23-0678\n",
        "\n",
        "Luca Daguzán 23-0947"
      ]
    },
    {
      "cell_type": "markdown",
      "metadata": {
        "id": "GWC6x9LgwicZ"
      },
      "source": [
        "# FIFA 20 Sports Analytics\n",
        "\n",
        "## Descripción\n",
        "\n",
        "Este proyecto analiza la influencia de la edad en la media de los jugadores en FIFA 20. Utiliza un modelo de regresión lineal para identificar correlaciones y hacer predicciones basadas en la edad.\n",
        "\n",
        "## Estructura del Proyecto\n",
        "\n",
        "- `exploration.ipynb`: Exploración inicial de datos y visualización.\n",
        "- `main.py`: Script principal que ejecuta el análisis completo.\n",
        "- `etl.py`: Módulo para la carga y procesamiento de datos.\n",
        "- `ml.py`: Módulo para el modelado y evaluación.\n",
        "- `data/`: Carpeta que contiene los datos originales y procesados.\n",
        "\n",
        "## Objetivos del Proyecto:\n",
        "Analizar la relación entre la edad de los jugadores y su media en FIFA.\n",
        "Identificar si la edad tiene un impacto significativo en la media.\n",
        "Desarrollar visualizaciones para entender mejor la distribución de edades y medias.\n",
        "Implementar un modelo de regresión para predecir la media en función de la edad.\n",
        "\n",
        "\n"
      ]
    },
    {
      "cell_type": "markdown",
      "metadata": {
        "id": "AttaSKsM6v5E"
      },
      "source": []
    },
    {
      "cell_type": "markdown",
      "metadata": {
        "id": "A8W4ev126YKc"
      },
      "source": [
        "## **Diagrama de flujos**\n",
        "    \n",
        "    A[Exploración de Datos] --> B[Proceso ETL]\n",
        "    B --> C[Análisis Exploratorio y Visualización]\n",
        "    C --> D[Entrenamiento del Modelo de Regresión Lineal]\n",
        "    D --> E[Evaluación del Modelo]\n",
        "    E --> F[Documentación]\n",
        "    F --> G[Control de Versiones en GitHub]\n"
      ]
    },
    {
      "cell_type": "markdown",
      "metadata": {
        "id": "sxva3iM0wyVf"
      },
      "source": [
        "## Implementación Técnica:\n",
        "\n",
        "1. Descomprimir y cargar Datos:"
      ]
    },
    {
      "cell_type": "code",
      "execution_count": null,
      "metadata": {
        "colab": {
          "background_save": true,
          "base_uri": "https://localhost:8080/"
        },
        "id": "C0pMUPIbysFH",
        "outputId": "a6c18a10-5c23-4b6e-b46c-0f9a11d22bad"
      },
      "outputs": [
        {
          "name": "stdout",
          "output_type": "stream",
          "text": [
            "ls: cannot access '/kaggle/input/fifa-20-complete-player-dataset': No such file or directory\n"
          ]
        }
      ],
      "source": [
        "!ls /kaggle/input/fifa-20-complete-player-dataset"
      ]
    },
    {
      "cell_type": "code",
      "execution_count": null,
      "metadata": {
        "id": "0cyFktoXBZ8y"
      },
      "outputs": [],
      "source": []
    },
    {
      "cell_type": "markdown",
      "metadata": {
        "id": "lPZY1mrD4_Xe"
      },
      "source": [
        "\n",
        "\n",
        "### 1. **Descripción del Conjunto de Datos**\n",
        "   - **Tamaño del Dataset**: El dataset tiene 15,465 filas (jugadores) y 104 columnas, que incluyen diversas características de los jugadores, como edad, altura, peso, nacionalidad, club, valoraciones de habilidades, entre otros.\n",
        "   - **Rango de Edades**: La edad de los jugadores varía de 16 a 44 años.\n",
        "   - **Valoración General (Overall)**: La valoración general de los jugadores va de 40 a 93.\n",
        "\n",
        "### 2. **Correlación entre Edad y Media (Overall)**\n",
        "   - **Correlación**: La correlación entre la edad y la valoración general de los jugadores es de aproximadamente `0.2016`.\n",
        "     - **Interpretación**: Este valor de correlación es positivo pero bajo, lo que sugiere una relación débil entre la edad y la media de los jugadores. Es decir, a medida que los jugadores envejecen, puede haber una tendencia ligera a tener una mejor valoración, pero no es una relación fuerte.\n",
        "\n",
        "### 3. **Exploración de los Datos**\n",
        "   - **Desviación Estándar**: Los valores estándar muestran variabilidad en las características, como la altura, peso, y las habilidades específicas de los jugadores.\n",
        "   - **Distribución de Valores**: Las medidas como `overall`, `potential`, y otras habilidades muestran que la mayoría de los jugadores están en un rango medio, con pocos jugadores alcanzando valores extremos.\n",
        "\n",
        "### 4. **Implicaciones del Análisis**\n",
        "   - **Edad vs. Valoración General**: Aunque hay una correlación positiva entre la edad y la media, el valor bajo de la correlación indica que la edad por sí sola no es un factor determinante para predecir la valoración general de un jugador. Otros factores, como el potencial, la experiencia, y las habilidades específicas del jugador, podrían tener una mayor influencia.\n",
        "   - **Modelo de Regresión**: Dado que la correlación es baja, el modelo de regresión basado únicamente en la edad probablemente no sea muy preciso para predecir la valoración general de los jugadores. Otros factores deberían considerarse para mejorar el modelo.\n",
        "\n",
        "### 5. **Visualización**\n",
        "   - **Gráfico de Dispersión**: Al visualizar la relación entre la edad y la media, probablemente verás un gráfico con puntos dispersos y sin un patrón claro, lo que refuerza la idea de que la relación entre estas variables es débil.\n",
        "\n",
        "### **Conclusión**\n",
        "\n",
        "El análisis sugiere que, si bien la edad tiene alguna influencia en la media de los jugadores, esta influencia es bastante limitada. Para un análisis más completo, sería necesario considerar otras variables y posiblemente construir un modelo más complejo que incluya múltiples factores para predecir con precisión la valoración general de un jugador en FIFA."
      ]
    },
    {
      "cell_type": "code",
      "execution_count": null,
      "metadata": {
        "colab": {
          "base_uri": "https://localhost:8080/",
          "height": 73
        },
        "id": "soEf4YI73ePM",
        "outputId": "eb879d73-64ac-43c7-9dce-97ba47e24956"
      },
      "outputs": [
        {
          "data": {
            "text/html": [
              "\n",
              "     <input type=\"file\" id=\"files-3b366e79-0a9a-4889-a013-ccc20998d61a\" name=\"files[]\" multiple disabled\n",
              "        style=\"border:none\" />\n",
              "     <output id=\"result-3b366e79-0a9a-4889-a013-ccc20998d61a\">\n",
              "      Upload widget is only available when the cell has been executed in the\n",
              "      current browser session. Please rerun this cell to enable.\n",
              "      </output>\n",
              "      <script>// Copyright 2017 Google LLC\n",
              "//\n",
              "// Licensed under the Apache License, Version 2.0 (the \"License\");\n",
              "// you may not use this file except in compliance with the License.\n",
              "// You may obtain a copy of the License at\n",
              "//\n",
              "//      http://www.apache.org/licenses/LICENSE-2.0\n",
              "//\n",
              "// Unless required by applicable law or agreed to in writing, software\n",
              "// distributed under the License is distributed on an \"AS IS\" BASIS,\n",
              "// WITHOUT WARRANTIES OR CONDITIONS OF ANY KIND, either express or implied.\n",
              "// See the License for the specific language governing permissions and\n",
              "// limitations under the License.\n",
              "\n",
              "/**\n",
              " * @fileoverview Helpers for google.colab Python module.\n",
              " */\n",
              "(function(scope) {\n",
              "function span(text, styleAttributes = {}) {\n",
              "  const element = document.createElement('span');\n",
              "  element.textContent = text;\n",
              "  for (const key of Object.keys(styleAttributes)) {\n",
              "    element.style[key] = styleAttributes[key];\n",
              "  }\n",
              "  return element;\n",
              "}\n",
              "\n",
              "// Max number of bytes which will be uploaded at a time.\n",
              "const MAX_PAYLOAD_SIZE = 100 * 1024;\n",
              "\n",
              "function _uploadFiles(inputId, outputId) {\n",
              "  const steps = uploadFilesStep(inputId, outputId);\n",
              "  const outputElement = document.getElementById(outputId);\n",
              "  // Cache steps on the outputElement to make it available for the next call\n",
              "  // to uploadFilesContinue from Python.\n",
              "  outputElement.steps = steps;\n",
              "\n",
              "  return _uploadFilesContinue(outputId);\n",
              "}\n",
              "\n",
              "// This is roughly an async generator (not supported in the browser yet),\n",
              "// where there are multiple asynchronous steps and the Python side is going\n",
              "// to poll for completion of each step.\n",
              "// This uses a Promise to block the python side on completion of each step,\n",
              "// then passes the result of the previous step as the input to the next step.\n",
              "function _uploadFilesContinue(outputId) {\n",
              "  const outputElement = document.getElementById(outputId);\n",
              "  const steps = outputElement.steps;\n",
              "\n",
              "  const next = steps.next(outputElement.lastPromiseValue);\n",
              "  return Promise.resolve(next.value.promise).then((value) => {\n",
              "    // Cache the last promise value to make it available to the next\n",
              "    // step of the generator.\n",
              "    outputElement.lastPromiseValue = value;\n",
              "    return next.value.response;\n",
              "  });\n",
              "}\n",
              "\n",
              "/**\n",
              " * Generator function which is called between each async step of the upload\n",
              " * process.\n",
              " * @param {string} inputId Element ID of the input file picker element.\n",
              " * @param {string} outputId Element ID of the output display.\n",
              " * @return {!Iterable<!Object>} Iterable of next steps.\n",
              " */\n",
              "function* uploadFilesStep(inputId, outputId) {\n",
              "  const inputElement = document.getElementById(inputId);\n",
              "  inputElement.disabled = false;\n",
              "\n",
              "  const outputElement = document.getElementById(outputId);\n",
              "  outputElement.innerHTML = '';\n",
              "\n",
              "  const pickedPromise = new Promise((resolve) => {\n",
              "    inputElement.addEventListener('change', (e) => {\n",
              "      resolve(e.target.files);\n",
              "    });\n",
              "  });\n",
              "\n",
              "  const cancel = document.createElement('button');\n",
              "  inputElement.parentElement.appendChild(cancel);\n",
              "  cancel.textContent = 'Cancel upload';\n",
              "  const cancelPromise = new Promise((resolve) => {\n",
              "    cancel.onclick = () => {\n",
              "      resolve(null);\n",
              "    };\n",
              "  });\n",
              "\n",
              "  // Wait for the user to pick the files.\n",
              "  const files = yield {\n",
              "    promise: Promise.race([pickedPromise, cancelPromise]),\n",
              "    response: {\n",
              "      action: 'starting',\n",
              "    }\n",
              "  };\n",
              "\n",
              "  cancel.remove();\n",
              "\n",
              "  // Disable the input element since further picks are not allowed.\n",
              "  inputElement.disabled = true;\n",
              "\n",
              "  if (!files) {\n",
              "    return {\n",
              "      response: {\n",
              "        action: 'complete',\n",
              "      }\n",
              "    };\n",
              "  }\n",
              "\n",
              "  for (const file of files) {\n",
              "    const li = document.createElement('li');\n",
              "    li.append(span(file.name, {fontWeight: 'bold'}));\n",
              "    li.append(span(\n",
              "        `(${file.type || 'n/a'}) - ${file.size} bytes, ` +\n",
              "        `last modified: ${\n",
              "            file.lastModifiedDate ? file.lastModifiedDate.toLocaleDateString() :\n",
              "                                    'n/a'} - `));\n",
              "    const percent = span('0% done');\n",
              "    li.appendChild(percent);\n",
              "\n",
              "    outputElement.appendChild(li);\n",
              "\n",
              "    const fileDataPromise = new Promise((resolve) => {\n",
              "      const reader = new FileReader();\n",
              "      reader.onload = (e) => {\n",
              "        resolve(e.target.result);\n",
              "      };\n",
              "      reader.readAsArrayBuffer(file);\n",
              "    });\n",
              "    // Wait for the data to be ready.\n",
              "    let fileData = yield {\n",
              "      promise: fileDataPromise,\n",
              "      response: {\n",
              "        action: 'continue',\n",
              "      }\n",
              "    };\n",
              "\n",
              "    // Use a chunked sending to avoid message size limits. See b/62115660.\n",
              "    let position = 0;\n",
              "    do {\n",
              "      const length = Math.min(fileData.byteLength - position, MAX_PAYLOAD_SIZE);\n",
              "      const chunk = new Uint8Array(fileData, position, length);\n",
              "      position += length;\n",
              "\n",
              "      const base64 = btoa(String.fromCharCode.apply(null, chunk));\n",
              "      yield {\n",
              "        response: {\n",
              "          action: 'append',\n",
              "          file: file.name,\n",
              "          data: base64,\n",
              "        },\n",
              "      };\n",
              "\n",
              "      let percentDone = fileData.byteLength === 0 ?\n",
              "          100 :\n",
              "          Math.round((position / fileData.byteLength) * 100);\n",
              "      percent.textContent = `${percentDone}% done`;\n",
              "\n",
              "    } while (position < fileData.byteLength);\n",
              "  }\n",
              "\n",
              "  // All done.\n",
              "  yield {\n",
              "    response: {\n",
              "      action: 'complete',\n",
              "    }\n",
              "  };\n",
              "}\n",
              "\n",
              "scope.google = scope.google || {};\n",
              "scope.google.colab = scope.google.colab || {};\n",
              "scope.google.colab._files = {\n",
              "  _uploadFiles,\n",
              "  _uploadFilesContinue,\n",
              "};\n",
              "})(self);\n",
              "</script> "
            ],
            "text/plain": [
              "<IPython.core.display.HTML object>"
            ]
          },
          "metadata": {},
          "output_type": "display_data"
        },
        {
          "name": "stdout",
          "output_type": "stream",
          "text": [
            "Saving players_15.csv.zip to players_15.csv (1).zip\n"
          ]
        }
      ],
      "source": [
        "# Importar las bibliotecas necesarias\n",
        "import pandas as pd\n",
        "import zipfile\n",
        "import io\n",
        "import seaborn as sns\n",
        "import matplotlib.pyplot as plt\n",
        "from sklearn.model_selection import train_test_split\n",
        "from sklearn.linear_model import LinearRegression\n",
        "from sklearn.metrics import mean_squared_error, r2_score\n",
        "\n",
        "# Subir el archivo desde el sistema local\n",
        "from google.colab import files\n",
        "uploaded = files.upload()\n",
        "\n",
        "# Obtener el nombre del archivo subido dinámicamente\n",
        "file_name = list(uploaded.keys())[0]  # Obtener el nombre del archivo subido dinámicamente\n",
        "\n",
        "# Descomprimir el archivo ZIP\n",
        "with zipfile.ZipFile(io.BytesIO(uploaded[file_name]), 'r') as zip_ref:\n",
        "    zip_ref.extractall('/content/')\n",
        "\n",
        "# Asumiendo que el CSV dentro del ZIP se llama 'players_15.csv'\n",
        "csv_file = '/content/players_15.csv'\n",
        "\n",
        "# Cargar el archivo CSV descomprimido\n",
        "df = pd.read_csv(csv_file)\n"
      ]
    },
    {
      "cell_type": "code",
      "execution_count": null,
      "metadata": {
        "colab": {
          "base_uri": "https://localhost:8080/"
        },
        "id": "en44AOgsBorD",
        "outputId": "2c5f8ff9-4cd0-41cd-8fe4-4a4e326acc8d"
      },
      "outputs": [
        {
          "name": "stdout",
          "output_type": "stream",
          "text": [
            "   sofifa_id                                         player_url  \\\n",
            "0     158023  https://sofifa.com/player/158023/lionel-messi/...   \n",
            "1      20801  https://sofifa.com/player/20801/c-ronaldo-dos-...   \n",
            "2       9014  https://sofifa.com/player/9014/arjen-robben/15...   \n",
            "3      41236  https://sofifa.com/player/41236/zlatan-ibrahim...   \n",
            "4     167495  https://sofifa.com/player/167495/manuel-neuer/...   \n",
            "\n",
            "          short_name                            long_name  age         dob  \\\n",
            "0           L. Messi       Lionel Andrés Messi Cuccittini   27  1987-06-24   \n",
            "1  Cristiano Ronaldo  Cristiano Ronaldo dos Santos Aveiro   29  1985-02-05   \n",
            "2          A. Robben                         Arjen Robben   30  1984-01-23   \n",
            "3     Z. Ibrahimović                   Zlatan Ibrahimović   32  1981-10-03   \n",
            "4           M. Neuer                         Manuel Neuer   28  1986-03-27   \n",
            "\n",
            "   height_cm  weight_kg  nationality                 club  ...   lwb   ldm  \\\n",
            "0        169         67    Argentina         FC Barcelona  ...  62+3  62+3   \n",
            "1        185         80     Portugal          Real Madrid  ...  63+3  63+3   \n",
            "2        180         80  Netherlands    FC Bayern München  ...  64+3  64+3   \n",
            "3        195         95       Sweden  Paris Saint-Germain  ...  61+3  65+3   \n",
            "4        193         92      Germany    FC Bayern München  ...   NaN   NaN   \n",
            "\n",
            "    cdm   rdm   rwb    lb   lcb    cb   rcb    rb  \n",
            "0  62+3  62+3  62+3  54+3  45+3  45+3  45+3  54+3  \n",
            "1  63+3  63+3  63+3  57+3  52+3  52+3  52+3  57+3  \n",
            "2  64+3  64+3  64+3  55+3  46+3  46+3  46+3  55+3  \n",
            "3  65+3  65+3  61+3  56+3  55+3  55+3  55+3  56+3  \n",
            "4   NaN   NaN   NaN   NaN   NaN   NaN   NaN   NaN  \n",
            "\n",
            "[5 rows x 104 columns]\n",
            "           sofifa_id           age     height_cm     weight_kg       overall  \\\n",
            "count   15465.000000  15465.000000  15465.000000  15465.000000  15465.000000   \n",
            "mean   189298.588425     24.763272    181.093631     75.482703     63.948594   \n",
            "std     39648.820272      4.624565      6.635182      6.907243      7.208610   \n",
            "min         2.000000     16.000000    155.000000     50.000000     40.000000   \n",
            "25%    178043.000000     21.000000    176.000000     70.000000     59.000000   \n",
            "50%    200844.000000     24.000000    181.000000     75.000000     64.000000   \n",
            "75%    214326.000000     28.000000    186.000000     80.000000     69.000000   \n",
            "max    225562.000000     44.000000    203.000000    110.000000     93.000000   \n",
            "\n",
            "          potential  value_eur  wage_eur  international_reputation  \\\n",
            "count  15465.000000    15465.0   15465.0              15465.000000   \n",
            "mean      68.483091        0.0       0.0                  1.126350   \n",
            "std        6.611708        0.0       0.0                  0.401362   \n",
            "min       40.000000        0.0       0.0                  1.000000   \n",
            "25%       64.000000        0.0       0.0                  1.000000   \n",
            "50%       68.000000        0.0       0.0                  1.000000   \n",
            "75%       73.000000        0.0       0.0                  1.000000   \n",
            "max       95.000000        0.0       0.0                  5.000000   \n",
            "\n",
            "          weak_foot  ...     dribbling     defending        physic  \\\n",
            "count  15465.000000  ...  13762.000000  13762.000000  13762.000000   \n",
            "mean       2.932363  ...     60.617861     50.000799     64.602456   \n",
            "std        0.652270  ...     10.800142     15.850317      9.698882   \n",
            "min        1.000000  ...     25.000000     21.000000     28.000000   \n",
            "25%        3.000000  ...     54.000000     33.000000     58.000000   \n",
            "50%        3.000000  ...     62.000000     53.000000     66.000000   \n",
            "75%        3.000000  ...     68.000000     63.000000     72.000000   \n",
            "max        5.000000  ...     96.000000     90.000000     91.000000   \n",
            "\n",
            "         gk_diving  gk_handling   gk_kicking  gk_reflexes     gk_speed  \\\n",
            "count  1703.000000  1703.000000  1703.000000  1703.000000  1703.000000   \n",
            "mean     64.709336    60.823840    59.455079    65.955373    43.900763   \n",
            "std       7.855747     8.510626     8.689929     8.374343     8.440858   \n",
            "min      35.000000    36.000000    21.000000    31.000000    20.000000   \n",
            "25%      59.000000    55.000000    53.000000    60.000000    39.000000   \n",
            "50%      64.000000    61.000000    59.000000    65.000000    44.000000   \n",
            "75%      70.000000    67.000000    65.000000    72.000000    49.000000   \n",
            "max      88.000000    87.000000    92.000000    90.000000    66.000000   \n",
            "\n",
            "       gk_positioning  mentality_composure  \n",
            "count     1703.000000                  0.0  \n",
            "mean        61.230182                  NaN  \n",
            "std          9.188257                  NaN  \n",
            "min         38.000000                  NaN  \n",
            "25%         54.000000                  NaN  \n",
            "50%         61.000000                  NaN  \n",
            "75%         68.000000                  NaN  \n",
            "max         90.000000                  NaN  \n",
            "\n",
            "[8 rows x 28 columns]\n",
            "Index(['sofifa_id', 'player_url', 'short_name', 'long_name', 'age', 'dob',\n",
            "       'height_cm', 'weight_kg', 'nationality', 'club',\n",
            "       ...\n",
            "       'lwb', 'ldm', 'cdm', 'rdm', 'rwb', 'lb', 'lcb', 'cb', 'rcb', 'rb'],\n",
            "      dtype='object', length=104)\n"
          ]
        }
      ],
      "source": [
        "# Ver las primeras filas del DataFrame\n",
        "print(df.head())\n",
        "\n",
        "# Descripción estadística inicial de los datos\n",
        "print(df.describe())\n",
        "\n",
        "# Exploración de columnas para identificar posibles columnas relevantes\n",
        "print(df.columns)"
      ]
    },
    {
      "cell_type": "markdown",
      "source": [
        "# **Limpieza de datos**"
      ],
      "metadata": {
        "id": "0pXHhG5bPS-o"
      }
    },
    {
      "cell_type": "code",
      "execution_count": null,
      "metadata": {
        "id": "IpdT_JsfB0PN"
      },
      "outputs": [],
      "source": [
        "# Limpiar los datos y seleccionar las columnas relevantes\n",
        "def load_and_process_data(filepath):\n",
        "    # Cargar los datos\n",
        "    data = pd.read_csv(filepath)\n",
        "\n",
        "    # Seleccionar columnas relevantes\n",
        "    data = data[['age', 'overall']]\n",
        "\n",
        "    # Limpiar datos nulos y duplicados\n",
        "    data = data.dropna()\n",
        "    data = data.drop_duplicates()\n",
        "\n",
        "    return data\n",
        "\n",
        "# Llamada al proceso ETL\n",
        "data = load_and_process_data(csv_file)"
      ]
    },
    {
      "cell_type": "markdown",
      "source": [
        "# **Correlación entre la edad y la media.**"
      ],
      "metadata": {
        "id": "rPzA-M0tOuxb"
      }
    },
    {
      "cell_type": "code",
      "execution_count": null,
      "metadata": {
        "colab": {
          "base_uri": "https://localhost:8080/",
          "height": 489
        },
        "id": "1JcutWwfB6oD",
        "outputId": "2129d340-e749-43f2-fb75-28fb1c4b394e"
      },
      "outputs": [
        {
          "name": "stdout",
          "output_type": "stream",
          "text": [
            "Correlación entre edad y media: 0.20161165523322971\n"
          ]
        },
        {
          "data": {
            "image/png": "[encoded data removed]",
            "text/plain": [
              "<Figure size 640x480 with 1 Axes>"
            ]
          },
          "metadata": {},
          "output_type": "display_data"
        }
      ],
      "source": [
        "# Calcular la correlación entre la edad y la media (overall_rating)\n",
        "if 'age' in data.columns and 'overall' in data.columns:\n",
        "    corr = data['age'].corr(data['overall'])\n",
        "    print(f\"Correlación entre edad y media: {corr}\")\n",
        "\n",
        "    # Visualización inicial de la relación entre edad y media\n",
        "    sns.scatterplot(x='age', y='overall', data=data)\n",
        "    plt.title('Relación entre Edad y Media')\n",
        "    plt.show()\n",
        "else:\n",
        "    print(\"Las columnas 'age' y/o 'overall' no se encontraron en el conjunto de datos.\")"
      ]
    },
    {
      "cell_type": "markdown",
      "source": [
        "# **Evaluación del Modelo**"
      ],
      "metadata": {
        "id": "y0b6ZmL2O_QO"
      }
    },
    {
      "cell_type": "code",
      "execution_count": null,
      "metadata": {
        "id": "WNjPsvLhCEVJ",
        "colab": {
          "base_uri": "https://localhost:8080/"
        },
        "outputId": "e54e9fc7-15a3-4259-8e91-e993a6b1ebec"
      },
      "outputs": [
        {
          "output_type": "stream",
          "name": "stdout",
          "text": [
            "Mean Squared Error: 123.46377442737155\n",
            "R^2 Score: 0.001857366836879093\n"
          ]
        }
      ],
      "source": [
        "# Proceso de ML: Entrenamiento y Evaluación del Modelo\n",
        "def split_features_target(data):\n",
        "    X = data[['age']]\n",
        "    y = data['overall']\n",
        "    return X, y\n",
        "\n",
        "def train_model(X, y):\n",
        "    # Dividir los datos en entrenamiento y prueba\n",
        "    X_train, X_test, y_train, y_test = train_test_split(X, y, test_size=0.2, random_state=42)\n",
        "\n",
        "    # Crear y entrenar el modelo de regresión lineal\n",
        "    model = LinearRegression()\n",
        "    model.fit(X_train, y_train)\n",
        "\n",
        "    return model, X_test, y_test\n",
        "\n",
        "def evaluate_model(model, X_test, y_test):\n",
        "    y_pred = model.predict(X_test)\n",
        "     # Evaluar el modelo\n",
        "    mse = mean_squared_error(y_test, y_pred)\n",
        "    r2 = r2_score(y_test, y_pred)\n",
        "\n",
        "    print(f'Mean Squared Error: {mse}')\n",
        "    print(f'R^2 Score: {r2}')\n",
        "\n",
        "# Entrenar y evaluar el modelo\n",
        "X, y = split_features_target(data)\n",
        "model, X_test, y_test = train_model(X, y)\n",
        "evaluate_model(model, X_test, y_test)"
      ]
    }
  ],
  "metadata": {
    "colab": {
      "provenance": []
    },
    "kernelspec": {
      "display_name": "Python 3",
      "name": "python3"
    },
    "language_info": {
      "name": "python"
    }
  },
  "nbformat": 4,
  "nbformat_minor": 0
}